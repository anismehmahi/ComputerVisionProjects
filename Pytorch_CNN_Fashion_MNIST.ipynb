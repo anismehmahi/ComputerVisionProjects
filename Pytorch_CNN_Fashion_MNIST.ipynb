{
  "nbformat": 4,
  "nbformat_minor": 0,
  "metadata": {
    "colab": {
      "provenance": [],
      "gpuType": "T4",
      "authorship_tag": "ABX9TyOgdjBWkivlW+I+K4egCkWR"
    },
    "kernelspec": {
      "name": "python3",
      "display_name": "Python 3"
    },
    "language_info": {
      "name": "python"
    },
    "accelerator": "GPU"
  },
  "cells": [
    {
      "cell_type": "code",
      "execution_count": null,
      "metadata": {
        "id": "h_RMOAhSMYjm"
      },
      "outputs": [],
      "source": [
        "import numpy as np\n",
        "import pandas as pd\n",
        "import torch\n",
        "from torch import nn\n",
        "import torchvision\n",
        "import torchvision.datasets as datasets\n",
        "from torchvision.transforms import ToTensor\n",
        "from sklearn.metrics import accuracy_score\n",
        "\n",
        "import matplotlib.pyplot as plt"
      ]
    },
    {
      "cell_type": "code",
      "source": [
        "train_data = torchvision.datasets.FashionMNIST('/content/Fashionmnist_train', train=True, download=True, transform=ToTensor())\n",
        "test_data = torchvision.datasets.FashionMNIST('/content/Fashionmnist_test', train=False, download =True,transform=ToTensor() )\n"
      ],
      "metadata": {
        "id": "CaDQ4ZfbObl1"
      },
      "execution_count": null,
      "outputs": []
    },
    {
      "cell_type": "code",
      "source": [
        "np.unique(train_data.targets.numpy())"
      ],
      "metadata": {
        "colab": {
          "base_uri": "https://localhost:8080/"
        },
        "id": "hiWCRiGSaGfD",
        "outputId": "731fb8f6-a1e0-4daa-85f4-9b5653bc80d7"
      },
      "execution_count": null,
      "outputs": [
        {
          "output_type": "execute_result",
          "data": {
            "text/plain": [
              "array([0, 1, 2, 3, 4, 5, 6, 7, 8, 9])"
            ]
          },
          "metadata": {},
          "execution_count": 22
        }
      ]
    },
    {
      "cell_type": "code",
      "source": [
        "train_loader = torch.utils.data.DataLoader(train_data,\n",
        "                                          batch_size=32,\n",
        "                                          shuffle=True,\n",
        "                                          )\n",
        "test_loader = torch.utils.data.DataLoader(test_data,\n",
        "                                          batch_size=32,\n",
        "                                          shuffle=False,\n",
        "                                          )\n",
        "train_loader, test_loader"
      ],
      "metadata": {
        "colab": {
          "base_uri": "https://localhost:8080/"
        },
        "id": "Z0YOZfk5PhA5",
        "outputId": "fc04a729-e5ce-4418-b0bc-49771d8fb9f7"
      },
      "execution_count": null,
      "outputs": [
        {
          "output_type": "execute_result",
          "data": {
            "text/plain": [
              "(<torch.utils.data.dataloader.DataLoader at 0x7e5750874970>,\n",
              " <torch.utils.data.dataloader.DataLoader at 0x7e5751194dc0>)"
            ]
          },
          "metadata": {},
          "execution_count": 23
        }
      ]
    },
    {
      "cell_type": "code",
      "source": [
        "for input , target in train_loader:\n",
        "  print(input.shape)\n",
        "\n",
        "  print('w = ',input[0].shape[1])\n",
        "  print('h = ',input[0].shape[2])\n",
        "  print('c = ',input[0].shape[0])\n",
        "  print('Batch size = ',input.shape[0])\n",
        "\n",
        "  plt.imshow(input[0].numpy().reshape(28,28),cmap=\"gray\" )\n",
        "  print('label = ', int(target[0]))\n",
        "  break"
      ],
      "metadata": {
        "colab": {
          "base_uri": "https://localhost:8080/",
          "height": 540
        },
        "id": "t3r4T3FYP_XO",
        "outputId": "fda34f56-72ec-48bb-954c-eaa33488ef2f"
      },
      "execution_count": null,
      "outputs": [
        {
          "output_type": "stream",
          "name": "stdout",
          "text": [
            "torch.Size([32, 1, 28, 28])\n",
            "w =  28\n",
            "h =  28\n",
            "c =  1\n",
            "Batch size =  32\n",
            "label =  5\n"
          ]
        },
        {
          "output_type": "display_data",
          "data": {
            "text/plain": [
              "<Figure size 640x480 with 1 Axes>"
            ],
            "image/png": "[encoded data removed]"
          },
          "metadata": {}
        }
      ]
    },
    {
      "cell_type": "markdown",
      "source": [
        "# Build Model"
      ],
      "metadata": {
        "id": "wjBhxCNWasA8"
      }
    },
    {
      "cell_type": "code",
      "source": [],
      "metadata": {
        "id": "4SXtU0SGeX-R"
      },
      "execution_count": null,
      "outputs": []
    },
    {
      "cell_type": "code",
      "source": [
        "class Model(nn.Module):\n",
        "  def __init__(self,K):\n",
        "    super(Model,self).__init__()\n",
        "    self.conv_layers = nn.Sequential(\n",
        "        nn.Conv2d(in_channels = 1 , out_channels= 32 ,kernel_size =3 , stride = 2),\n",
        "        # output = 13x13x32 (HxWxC)\n",
        "        nn.ReLU(),\n",
        "        nn.Conv2d(in_channels = 32 , out_channels= 64 ,kernel_size =3 , stride = 2),\n",
        "        # output = 6x6x64 (HxWxC)\n",
        "        nn.ReLU(),\n",
        "        nn.Conv2d(in_channels = 64 , out_channels= 128 ,kernel_size =3 , stride = 2),\n",
        "        # output =  2*2*128(HxWxC)\n",
        "        nn.ReLU(),\n",
        "    )\n",
        "    self.dense_layers = nn.Sequential(\n",
        "        nn.Dropout(0.2),\n",
        "        nn.Linear(128 * 2 * 2, 512),\n",
        "        nn.ReLU(),\n",
        "        nn.Dropout(0.2),\n",
        "        nn.Linear(512, K)\n",
        "        # no need to softmax\n",
        "    )\n",
        "  def forward(self,X):\n",
        "    out = self.conv_layers(X)\n",
        "    out = out.view(out.size(0),-1)\n",
        "    out= self.dense_layers(out)\n",
        "    return out\n",
        "\n"
      ],
      "metadata": {
        "id": "0K6-Ay4BRkUE"
      },
      "execution_count": null,
      "outputs": []
    },
    {
      "cell_type": "code",
      "source": [
        "if torch.cuda.is_available():\n",
        "    device = torch.device(\"cuda\")\n",
        "    print(\"GPU is available and being used\")\n",
        "else:\n",
        "    device = torch.device(\"cpu\")\n",
        "    print(\"GPU is not available, using CPU instead\")\n",
        "\n",
        "model = Model(K=10).to(device)\n",
        "criterion = nn.CrossEntropyLoss()\n",
        "optimizer = torch.optim.Adam(model.parameters())"
      ],
      "metadata": {
        "colab": {
          "base_uri": "https://localhost:8080/"
        },
        "id": "h3rAAmRZe16G",
        "outputId": "2a75b991-d521-4012-f000-edff58372b78"
      },
      "execution_count": null,
      "outputs": [
        {
          "output_type": "stream",
          "name": "stdout",
          "text": [
            "GPU is available and being used\n"
          ]
        }
      ]
    },
    {
      "cell_type": "code",
      "source": [
        "def train (model,optimizer,criterion,epochs,train_loader,test_loader):\n",
        "  train_losses = []\n",
        "  test_losses=[]\n",
        "  for it in range(epochs):\n",
        "    train_loss = []\n",
        "    test_loss = []\n",
        "    for inputs,targets in train_loader:\n",
        "      inputs,targets = inputs.to(device), targets.to(device)\n",
        "\n",
        "      optimizer.zero_grad()\n",
        "      outputs = model(inputs)\n",
        "      loss = criterion(outputs,targets)\n",
        "      train_loss.append(loss.item())\n",
        "      loss.backward()\n",
        "      optimizer.step()\n",
        "    train_losses.append(np.mean(train_loss))\n",
        "\n",
        "    for test_inputs,test_targets in test_loader:\n",
        "      test_inputs,test_targets = test_inputs.to(device), test_targets.to(device)\n",
        "      output_test = model(test_inputs)\n",
        "      loss = criterion(output_test,test_targets)\n",
        "      test_loss.append(loss.item())\n",
        "    test_losses.append(np.mean(test_loss))\n",
        "\n",
        "  return train_losses, test_losses\n"
      ],
      "metadata": {
        "id": "QEiuWcgBf_mm"
      },
      "execution_count": null,
      "outputs": []
    },
    {
      "cell_type": "code",
      "source": [
        "train_loss, test_loss = train(model,optimizer,criterion,20,train_loader,test_loader)"
      ],
      "metadata": {
        "id": "L8od_xlsqI1c"
      },
      "execution_count": null,
      "outputs": []
    },
    {
      "cell_type": "code",
      "source": [
        "len(train_loss)"
      ],
      "metadata": {
        "colab": {
          "base_uri": "https://localhost:8080/"
        },
        "id": "PUPZngedwFMB",
        "outputId": "1ffc591e-3729-4f7c-8d1c-77df0de5c1e8"
      },
      "execution_count": null,
      "outputs": [
        {
          "output_type": "execute_result",
          "data": {
            "text/plain": [
              "20"
            ]
          },
          "metadata": {},
          "execution_count": 29
        }
      ]
    },
    {
      "cell_type": "code",
      "source": [
        "# Visualize loss history\n",
        "plt.plot(range(20), train_loss, 'r--')\n",
        "plt.plot(range(20), test_loss, 'b-')\n",
        "plt.legend(['Training Loss', 'Test Loss'])\n",
        "plt.xlabel('Epoch')\n",
        "plt.ylabel('Loss')\n",
        "plt.show();\n"
      ],
      "metadata": {
        "colab": {
          "base_uri": "https://localhost:8080/",
          "height": 449
        },
        "id": "GQn46tOhqeFM",
        "outputId": "cfbbe856-30a8-424c-8667-581c08ebf26b"
      },
      "execution_count": null,
      "outputs": [
        {
          "output_type": "display_data",
          "data": {
            "text/plain": [
              "<Figure size 640x480 with 1 Axes>"
            ],
            "image/png": "[encoded data removed]"
          },
          "metadata": {}
        }
      ]
    },
    {
      "cell_type": "markdown",
      "source": [
        "### Check test & train accuracy\n"
      ],
      "metadata": {
        "id": "EdOon8xt_KbY"
      }
    },
    {
      "cell_type": "code",
      "source": [
        "yhat = np.array([])\n",
        "y = np.array([])\n",
        "for test_inputs,test_targets in test_loader:\n",
        "  test_inputs,test_targets = test_inputs.to(device), test_targets.to(device)\n",
        "  output_test = model(test_inputs)\n",
        "  yhat = np.append(yhat,output_test.cpu().detach().numpy().argmax(axis=1))\n",
        "  y = np.append(y,test_targets.cpu().numpy())\n",
        "\n",
        "print('Test acc', accuracy_score(y,yhat))\n",
        "\n",
        "\n",
        "yhat = np.array([])\n",
        "y = np.array([])\n",
        "for train_inputs,train_targets in train_loader:\n",
        "  train_inputs,train_targets = train_inputs.to(device), train_targets.to(device)\n",
        "  output_train = model(train_inputs)\n",
        "  yhat = np.append(yhat,output_train.cpu().detach().numpy().argmax(axis=1))\n",
        "  y = np.append(y,train_targets.cpu().numpy())\n",
        "\n",
        "print('Train acc', accuracy_score(y,yhat))\n"
      ],
      "metadata": {
        "colab": {
          "base_uri": "https://localhost:8080/"
        },
        "id": "hDpOX6sGwDiC",
        "outputId": "752d35e1-4957-4ed8-a4f6-94ea71ab22a3"
      },
      "execution_count": null,
      "outputs": [
        {
          "output_type": "stream",
          "name": "stdout",
          "text": [
            "Test acc 0.8881\n",
            "Train acc 0.9607\n"
          ]
        }
      ]
    },
    {
      "cell_type": "code",
      "source": [],
      "metadata": {
        "id": "V8FwAAsz-M0E"
      },
      "execution_count": null,
      "outputs": []
    }
  ]
}